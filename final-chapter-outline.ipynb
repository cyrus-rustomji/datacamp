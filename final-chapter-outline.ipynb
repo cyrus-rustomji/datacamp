{
 "cells": [
  {
   "cell_type": "markdown",
   "metadata": {},
   "source": [
    "# Final Lesson of the Final Chapter's Outline"
   ]
  },
  {
   "cell_type": "markdown",
   "metadata": {},
   "source": [
    "## Chapter 4 - Quandl Case Study\n",
    "> Lesson 4 - Build the model\n",
    "    > \n",
    "    > Learning objective: Create a financial data science model to understand the results of the data"
   ]
  },
  {
   "cell_type": "markdown",
   "metadata": {},
   "source": [
    "> Congrats! You've made it this far, one more exercise left! In this final exercise, we will learn how to determine if our dataset fits a linear regression or not. We will use the Python library scikit-learn (or sklearn) this lesson, the same library we used in Chapter 3 Lesson 3.\n",
    "\n",
    "> We are using sklearn in this lesson to help us better understand how our financial data fits into this data science model. The model we will be using is a linear regression model because our data has a relationship between covariates and the response variable is known to be linear."
   ]
  },
  {
   "cell_type": "code",
   "execution_count": null,
   "metadata": {
    "ExecuteTime": {
     "end_time": "2018-12-03T08:14:27.328346Z",
     "start_time": "2018-12-03T08:14:27.322483Z"
    }
   },
   "outputs": [],
   "source": [
    "import quandl\n",
    "import sklearn.linear_model from LinearRegression\n",
    "from sklearn.model_selection import train_test_split\n",
    " \n",
    "mydata = Quandl.get(\"NSE/OIL\", authtoken=\"insert token\")\n",
    "X = df.iloc[:,1:6]\n",
    "y = df.iloc[:,0]\n",
    "\n",
    "# Create the model\n",
    "linear = LinearRegression()\n",
    "X_train, X_test, y_train, y_test = train_test_split(answer_1, answer_2, test_size = 0.3)\n",
    "\n",
    "# Fit and score the model\n",
    "linear.fit(answer_3,y_train)\n",
    "linear.score(X_test,answer_4)"
   ]
  },
  {
   "cell_type": "code",
   "execution_count": null,
   "metadata": {},
   "outputs": [],
   "source": [
    "Hint 1: Build the train and test split with the specified variables (X and y)\n",
    "Hint 2: Fit and score the model with X_train and y_test variables"
   ]
  },
  {
   "cell_type": "code",
   "execution_count": null,
   "metadata": {},
   "outputs": [],
   "source": [
    "solutions:\n",
    "    answer_1 = X\n",
    "    answer_2 = y\n",
    "    answer_3 = X_train\n",
    "    answer_4 = y_test"
   ]
  }
 ],
 "metadata": {
  "kernelspec": {
   "display_name": "Python 3",
   "language": "python",
   "name": "python3"
  },
  "language_info": {
   "codemirror_mode": {
    "name": "ipython",
    "version": 3
   },
   "file_extension": ".py",
   "mimetype": "text/x-python",
   "name": "python",
   "nbconvert_exporter": "python",
   "pygments_lexer": "ipython3",
   "version": "3.6.5"
  },
  "toc": {
   "base_numbering": 1,
   "nav_menu": {},
   "number_sections": true,
   "sideBar": true,
   "skip_h1_title": false,
   "title_cell": "Table of Contents",
   "title_sidebar": "Contents",
   "toc_cell": false,
   "toc_position": {},
   "toc_section_display": true,
   "toc_window_display": false
  }
 },
 "nbformat": 4,
 "nbformat_minor": 2
}
