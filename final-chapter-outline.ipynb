{
 "cells": [
  {
   "cell_type": "markdown",
   "metadata": {},
   "source": [
    "# Final Lesson of the Final Chapter's Outline"
   ]
  },
  {
   "cell_type": "markdown",
   "metadata": {},
   "source": [
    "## Chapter 4 - Quandl Vix Case Study\n",
    "> Lesson 4 - Gain insight from the data\n",
    "    > \n",
    "    > Understand the metrics behind the dataset"
   ]
  },
  {
   "cell_type": "code",
   "execution_count": null,
   "metadata": {},
   "outputs": [],
   "source": []
  },
  {
   "cell_type": "raw",
   "metadata": {},
   "source": [
    "Congrats! You've made it this far, one more exercise left! The next exercise we will learn is how to determine if our dataset fits a linear regression or not. We have been introduced to pandas, NumPy, and seaborn - to name a few packages. The next one we will learn about is scikit-learn.\n",
    "\n",
    "Scikit-learn (or sklearn) is a Python package that allows users to use various machine learning models such as regression, classification, and clustering algorithms. It is built on NumPy, matplotlib, and SciPy and will give you a much clearer output than creating the same output in Excel."
   ]
  },
  {
   "cell_type": "code",
   "execution_count": null,
   "metadata": {},
   "outputs": [],
   "source": []
  },
  {
   "cell_type": "raw",
   "metadata": {},
   "source": [
    "import quandl\n",
    "import sklearn.linear_model from LinearRegression\n",
    "from sklearn.model_selection import train_test_split\n",
    " \n",
    "mydata = Quandl.get(\"NSE/OIL\", authtoken=\"insert token\")\n",
    "X = df.iloc[:,1:6]\n",
    "y = df.iloc[:,0]\n",
    "\n",
    "# Create the model\n",
    "linear = LinearRegression()\n",
    "X_train, X_test, y_train, y_test = train_test_split(answer_1, answer_2, test_size = 0.3)\n",
    "\n",
    "# Fit and score the model\n",
    "linear.fit(answer_3,y_train)\n",
    "linear.score(X_test,answer_4)"
   ]
  },
  {
   "cell_type": "raw",
   "metadata": {},
   "source": [
    "Hint 1: Build the train, test split with the specified variables (X and y)\n",
    "Hint 2: Fit and score the model with X_train and y_test variables"
   ]
  },
  {
   "cell_type": "raw",
   "metadata": {},
   "source": [
    "solutions:\n",
    "    answer_1 = X\n",
    "    answer_2 = y\n",
    "    answer_3 = X_train\n",
    "    answer_4 = y_test"
   ]
  },
  {
   "cell_type": "code",
   "execution_count": null,
   "metadata": {},
   "outputs": [],
   "source": []
  },
  {
   "cell_type": "code",
   "execution_count": null,
   "metadata": {},
   "outputs": [],
   "source": []
  },
  {
   "cell_type": "code",
   "execution_count": null,
   "metadata": {},
   "outputs": [],
   "source": []
  }
 ],
 "metadata": {
  "kernelspec": {
   "display_name": "Python 3",
   "language": "python",
   "name": "python3"
  },
  "language_info": {
   "codemirror_mode": {
    "name": "ipython",
    "version": 3
   },
   "file_extension": ".py",
   "mimetype": "text/x-python",
   "name": "python",
   "nbconvert_exporter": "python",
   "pygments_lexer": "ipython3",
   "version": "3.6.5"
  },
  "toc": {
   "base_numbering": 1,
   "nav_menu": {},
   "number_sections": true,
   "sideBar": true,
   "skip_h1_title": false,
   "title_cell": "Table of Contents",
   "title_sidebar": "Contents",
   "toc_cell": false,
   "toc_position": {},
   "toc_section_display": true,
   "toc_window_display": false
  }
 },
 "nbformat": 4,
 "nbformat_minor": 2
}
