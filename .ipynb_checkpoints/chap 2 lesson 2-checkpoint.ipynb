{
 "cells": [
  {
   "cell_type": "code",
   "execution_count": 16,
   "metadata": {
    "ExecuteTime": {
     "end_time": "2018-12-27T08:23:47.971713Z",
     "start_time": "2018-12-27T08:23:47.967378Z"
    }
   },
   "outputs": [
    {
     "name": "stdout",
     "output_type": "stream",
     "text": [
      "24.328896581223226\n"
     ]
    }
   ],
   "source": [
    "from math import exp\n",
    "S = 100 #stock price\n",
    "K = 75 #strike price\n",
    "r = 0.05 #risk-free interest rate\n",
    "T = 1 #time to expiration (in years)\n",
    "d1 = 0.6 #implied volatility\n",
    "d2 = 0.5 #implied volatility\n",
    "\n",
    "print((S*(d1) - (K*exp(-r*T)*(d2))))"
   ]
  },
  {
   "cell_type": "code",
   "execution_count": null,
   "metadata": {},
   "outputs": [],
   "source": []
  }
 ],
 "metadata": {
  "kernelspec": {
   "display_name": "Python 3",
   "language": "python",
   "name": "python3"
  },
  "language_info": {
   "codemirror_mode": {
    "name": "ipython",
    "version": 3
   },
   "file_extension": ".py",
   "mimetype": "text/x-python",
   "name": "python",
   "nbconvert_exporter": "python",
   "pygments_lexer": "ipython3",
   "version": "3.6.5"
  },
  "toc": {
   "base_numbering": 1,
   "nav_menu": {},
   "number_sections": true,
   "sideBar": true,
   "skip_h1_title": false,
   "title_cell": "Table of Contents",
   "title_sidebar": "Contents",
   "toc_cell": false,
   "toc_position": {},
   "toc_section_display": true,
   "toc_window_display": false
  }
 },
 "nbformat": 4,
 "nbformat_minor": 2
}
